{
 "cells": [
  {
   "cell_type": "code",
   "execution_count": 1,
   "metadata": {},
   "outputs": [
    {
     "name": "stderr",
     "output_type": "stream",
     "text": [
      "2024-03-26 16:28:00.428386: I tensorflow/core/util/port.cc:113] oneDNN custom operations are on. You may see slightly different numerical results due to floating-point round-off errors from different computation orders. To turn them off, set the environment variable `TF_ENABLE_ONEDNN_OPTS=0`.\n",
      "2024-03-26 16:28:00.429754: I external/local_tsl/tsl/cuda/cudart_stub.cc:32] Could not find cuda drivers on your machine, GPU will not be used.\n",
      "2024-03-26 16:28:00.508511: I external/local_tsl/tsl/cuda/cudart_stub.cc:32] Could not find cuda drivers on your machine, GPU will not be used.\n",
      "2024-03-26 16:28:00.826868: I tensorflow/core/platform/cpu_feature_guard.cc:210] This TensorFlow binary is optimized to use available CPU instructions in performance-critical operations.\n",
      "To enable the following instructions: AVX2 AVX_VNNI FMA, in other operations, rebuild TensorFlow with the appropriate compiler flags.\n",
      "2024-03-26 16:28:01.937705: W tensorflow/compiler/tf2tensorrt/utils/py_utils.cc:38] TF-TRT Warning: Could not find TensorRT\n"
     ]
    }
   ],
   "source": [
    "import pandas as pd\n",
    "from PIL import Image\n",
    "import numpy as np\n",
    "import tensorflow as tf\n",
    "from tensorflow import keras\n",
    "import numpy as np\n",
    "import matplotlib.pyplot as plt\n",
    "from sklearn.model_selection import cross_val_score\n",
    "from sklearn.preprocessing import StandardScaler\n",
    "from sklearn.pipeline import make_pipeline\n",
    "from joblib import Parallel, delayed\n",
    "from sklearn.model_selection import train_test_split\n",
    "from sklearn.neural_network import MLPClassifier\n",
    "from sklearn.ensemble import RandomForestClassifier\n",
    "from sklearn.metrics import accuracy_score\n",
    "from sklearn.preprocessing import LabelBinarizer\n",
    "\n",
    "\n",
    "df = pd.read_csv('data/labelled/labelled_data.csv')\n",
    "\n",
    "df = df.dropna(subset=['label'])\n",
    "\n",
    "# Lista para armazenar os dados\n",
    "data = []\n",
    "labels = []\n",
    "added_labels = set()\n",
    "\n",
    "batch_size = 32\n",
    "img_height = 180\n",
    "img_width = 180\n",
    "data_dir='data/cuted/'"
   ]
  },
  {
   "cell_type": "code",
   "execution_count": 2,
   "metadata": {},
   "outputs": [
    {
     "name": "stdout",
     "output_type": "stream",
     "text": [
      "Found 602 files belonging to 6 classes.\n"
     ]
    },
    {
     "name": "stdout",
     "output_type": "stream",
     "text": [
      "Using 482 files for training.\n"
     ]
    },
    {
     "name": "stderr",
     "output_type": "stream",
     "text": [
      "2024-03-26 16:28:04.560035: I external/local_xla/xla/stream_executor/cuda/cuda_executor.cc:984] could not open file to read NUMA node: /sys/bus/pci/devices/0000:01:00.0/numa_node\n",
      "Your kernel may have been built without NUMA support.\n",
      "2024-03-26 16:28:04.560693: W tensorflow/core/common_runtime/gpu/gpu_device.cc:2251] Cannot dlopen some GPU libraries. Please make sure the missing libraries mentioned above are installed properly if you would like to use GPU. Follow the guide at https://www.tensorflow.org/install/gpu for how to download and setup the required libraries for your platform.\n",
      "Skipping registering GPU devices...\n"
     ]
    }
   ],
   "source": [
    "train_ds = tf.keras.utils.image_dataset_from_directory(\n",
    "  data_dir,\n",
    "  validation_split=0.2,\n",
    "  subset=\"training\",\n",
    "  seed=123,\n",
    "  image_size=(img_height, img_width),\n",
    "  batch_size=batch_size)"
   ]
  },
  {
   "cell_type": "markdown",
   "metadata": {},
   "source": [
    "## Pré-processamento de imagens: \n",
    "Você pode adicionar mais etapas de pré-processamento de imagens, como normalização, aumentação de dados, etc.\n",
    "\n",
    "## Paralelização: \n",
    "A leitura e o processamento de imagens podem ser paralelizados usando multiprocessing ou joblib para acelerar o processo.\n",
    "\n",
    "## Ajuste de hiperparâmetros: \n",
    "Você pode usar técnicas como GridSearchCV ou RandomizedSearchCV para encontrar os melhores hiperparâmetros para seus modelos.\n",
    "\n",
    "## Validação cruzada: \n",
    "Em vez de dividir os dados apenas uma vez, você pode usar a validação cruzada para obter uma estimativa mais robusta do desempenho do modelo.\n",
    "\n",
    "## Verificação de overfitting: \n",
    "Verifique se o modelo está overfitting nos dados de treinamento. Se estiver, você pode tentar adicionar regularização ou usar um modelo mais simples."
   ]
  },
  {
   "cell_type": "code",
   "execution_count": 3,
   "metadata": {},
   "outputs": [],
   "source": [
    "# class ProcessImage:\n",
    "#     def __init__(self, df):\n",
    "#         self.df = df\n",
    "\n",
    "#     def process_single_image(self, row):\n",
    "#         img = Image.open(row['image_path'])\n",
    "#         img = img.resize((260, 260))\n",
    "#         img_array = np.array(img).flatten()\n",
    "#         return img_array, row['label']\n",
    "\n",
    "#     def process_images(self):\n",
    "#         results = Parallel(n_jobs=-1)(delayed(self.process_single_image)(row) for _, row in self.df.iterrows())\n",
    "#         data, labels = zip(*results)\n",
    "#         return data, labels\n",
    "\n",
    "\n",
    "# class TrainModel:\n",
    "#     def __init__(self, data, labels):\n",
    "#         self.data = data\n",
    "#         self.labels = labels\n",
    "\n",
    "#     def train(self):\n",
    "#         X_train, X_test, y_train, y_test = train_test_split(data, labels, test_size=0.2, random_state=42)\n",
    "\n",
    "#         # Criar e treinar os modelos com validação cruzada e normalização\n",
    "#         mlp = MLPClassifier(random_state=42)\n",
    "#         rf = RandomForestClassifier(random_state=42)\n",
    "\n",
    "#         print(\"MLP Cross-Validation Score:\")\n",
    "#         print(np.mean(cross_val_score(mlp, X_train, y_train, cv=5)))\n",
    "\n",
    "#         print(\"RandomForest Cross-Validation Score:\")\n",
    "#         print(np.mean(cross_val_score(rf, X_train, y_train, cv=5)))"
   ]
  },
  {
   "cell_type": "code",
   "execution_count": 4,
   "metadata": {},
   "outputs": [],
   "source": [
    "# Iterar sobre cada linha do DataFrame\n",
    "for index, row in df.iterrows():\n",
    "    # Abrir a imagem\n",
    "    img = Image.open(row['image_path'])\n",
    "    img = img.resize((160, 160))\n",
    "    \n",
    "    # Converter a imagem em um array numpy e achatá-la\n",
    "    img_array = np.array(img).flatten()\n",
    "    \n",
    "    img_array = img_array / 255.0\n",
    "    \n",
    "    # Adicionar o array de imagem e o rótulo à lista de dados\n",
    "    data.append(img_array)\n",
    "    labels.append(row['label'])\n",
    "    \n",
    "# Crie um binarizador de labels\n",
    "lb = LabelBinarizer()\n",
    "\n",
    "# Ajuste o binarizador de labels e transforme as labels\n",
    "labels = lb.fit_transform(labels)\n",
    "\n",
    "scaler = StandardScaler()\n",
    "\n",
    "\n",
    "# # X_train_scaled = scaler.fit_transform(X_train)\n",
    "# # X_test_scaled = scaler.transform(X_test)\n",
    "\n",
    "# # # Redução de dimensionalidade\n",
    "# # pca = PCA(n_components=0.95)\n",
    "# # X_train_pca = pca.fit_transform(X_train_scaled)\n",
    "# # X_test_pca = pca.transform(X_test_scaled)\n",
    "\n",
    "# # Treinar um modelo MLP com paralelização e ajuste de hiperparâmetros\n",
    "# mlp = MLPClassifier(random_state=42, activation='relu', learning_rate='adaptive', n_jobs=-1)\n",
    "# mlp.fit(X_train_pca, y_train)\n",
    "# mlp_predictions = mlp.predict(X_test_pca)\n",
    "# mlp_accuracy = accuracy_score(y_test, mlp_predictions)\n",
    "# print(f\"MLP Accuracy: {mlp_accuracy}\")\n",
    "\n"
   ]
  },
  {
   "cell_type": "code",
   "execution_count": 5,
   "metadata": {},
   "outputs": [],
   "source": [
    "X_train, X_test, y_train, y_test = train_test_split(data, labels, test_size=0.2, random_state=42)"
   ]
  }
 ],
 "metadata": {
  "kernelspec": {
   "display_name": ".venv",
   "language": "python",
   "name": "python3"
  },
  "language_info": {
   "codemirror_mode": {
    "name": "ipython",
    "version": 3
   },
   "file_extension": ".py",
   "mimetype": "text/x-python",
   "name": "python",
   "nbconvert_exporter": "python",
   "pygments_lexer": "ipython3",
   "version": "3.11.8"
  }
 },
 "nbformat": 4,
 "nbformat_minor": 2
}
