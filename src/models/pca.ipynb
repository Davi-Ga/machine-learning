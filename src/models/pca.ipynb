{
 "cells": [
  {
   "cell_type": "code",
   "execution_count": null,
   "metadata": {},
   "outputs": [],
   "source": [
    "import pandas as pd\n",
    "import numpy as np\n",
    "from tensorflow.keras.preprocessing import image\n",
    "from tensorflow.keras.applications.vgg16 import VGG16, preprocess_input\n",
    "from sklearn.decomposition import PCA\n",
    "import matplotlib.pyplot as plt\n",
    "import seaborn as sns\n",
    "\n",
    "# Load your data\n",
    "df = pd.read_csv('your_file.csv')\n",
    "\n",
    "# Load the VGG16 model\n",
    "model = VGG16(weights='imagenet', include_top=False)\n",
    "\n",
    "# Function to load and preprocess the image\n",
    "def load_image(img_path):\n",
    "    img = image.load_img(img_path, target_size=(224, 224))\n",
    "    img_data = image.img_to_array(img)\n",
    "    img_data = np.expand_dims(img_data, axis=0)\n",
    "    img_data = preprocess_input(img_data)\n",
    "    return img_data\n",
    "\n",
    "# Extract features from the images\n",
    "features = []\n",
    "for img_path in df['Image_Path']:\n",
    "    img_data = load_image(img_path)\n",
    "    features.append(model.predict(img_data).flatten())\n",
    "\n",
    "# Perform PCA on the features\n",
    "pca = PCA(n_components=2)\n",
    "principalComponents = pca.fit_transform(features)\n",
    "\n",
    "# Create a DataFrame with the principal components\n",
    "principalDf = pd.DataFrame(data = principalComponents, columns = ['principal component 1', 'principal component 2'])\n",
    "\n",
    "# Concatenate the principal components with the labels\n",
    "finalDf = pd.concat([principalDf, df[['Label']]], axis = 1)\n",
    "\n",
    "# Create a scatter plot with a different color for each label\n",
    "sns.scatterplot(x='principal component 1', y='principal component 2', hue='Label', data=finalDf)\n",
    "\n",
    "plt.title('Scatter plot')\n",
    "plt.show()"
   ]
  }
 ],
 "metadata": {
  "kernelspec": {
   "display_name": ".venv",
   "language": "python",
   "name": "python3"
  },
  "language_info": {
   "name": "python",
   "version": "3.11.8"
  }
 },
 "nbformat": 4,
 "nbformat_minor": 2
}
